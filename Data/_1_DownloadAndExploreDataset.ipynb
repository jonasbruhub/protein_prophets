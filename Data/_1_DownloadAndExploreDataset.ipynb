{
 "cells": [
  {
   "cell_type": "code",
   "execution_count": 4,
   "metadata": {},
   "outputs": [],
   "source": [
    "import numpy as np\n",
    "import os\n",
    "import requests\n",
    "import json\n",
    "from tqdm import tqdm\n",
    "\n",
    "path = os.getcwd()"
   ]
  },
  {
   "cell_type": "code",
   "execution_count": 5,
   "metadata": {},
   "outputs": [],
   "source": [
    "def get_alphafold_db_pdb(protein_id: str, out_path: str) -> bool:\n",
    "\n",
    "    \"\"\"\n",
    "    With the uniprot id, get the AF PDB from the DB.\n",
    "    \"\"\"\n",
    "\n",
    "    os.makedirs(os.path.dirname(out_path), exist_ok=True)\n",
    "\n",
    "    requestURL = f\"https://alphafold.ebi.ac.uk/files/AF-{protein_id}-F1-model_v4.pdb\"\n",
    "    r = requests.get(requestURL)\n",
    "\n",
    "    if r.status_code == 200:\n",
    "        with open(out_path, \"wb\") as f:\n",
    "            f.write(r.content)\n",
    "            return True\n",
    "    else:\n",
    "        return False"
   ]
  },
  {
   "cell_type": "code",
   "execution_count": 6,
   "metadata": {},
   "outputs": [],
   "source": [
    "proteinIDs = []\n",
    "\n",
    "with open(\"DeepTMHMM.partitions.json\",\"r\") as FileObj:\n",
    "    CVs = json.loads(FileObj.read())\n",
    "    for cv in CVs.keys():\n",
    "        cvProteins = CVs[cv]\n",
    "        for protein in cvProteins:\n",
    "            proteinIDs += [protein[\"id\"]]"
   ]
  },
  {
   "cell_type": "code",
   "execution_count": 7,
   "metadata": {},
   "outputs": [
    {
     "name": "stdout",
     "output_type": "stream",
     "text": [
      "Number of protein IDs in total:  3576\n",
      "Number of unique protein IDs in total 3576\n"
     ]
    }
   ],
   "source": [
    "print(\"Number of protein IDs in total: \", proteinIDs.__len__())\n",
    "print(\"Number of unique protein IDs in total\",np.unique(proteinIDs).__len__())"
   ]
  },
  {
   "cell_type": "code",
   "execution_count": 65,
   "metadata": {},
   "outputs": [
    {
     "name": "stderr",
     "output_type": "stream",
     "text": [
      "100%|██████████| 3576/3576 [30:07<00:00,  1.98it/s]\n"
     ]
    }
   ],
   "source": [
    "for proteinID in tqdm(proteinIDs):\n",
    "    get_alphafold_db_pdb(proteinID,path + \"/AlphaFoldDB/\" + proteinID+\".pdb\")"
   ]
  },
  {
   "cell_type": "code",
   "execution_count": 8,
   "metadata": {},
   "outputs": [
    {
     "name": "stdout",
     "output_type": "stream",
     "text": [
      "Found 3544 of 3576 proteins in AlphaFold DB\n",
      "Missing the following:\n",
      "P36022\n",
      "Q7TMY8\n",
      "Q05470\n",
      "P04875\n",
      "Q8IZQ1\n",
      "P98161\n",
      "Q9VDW6\n",
      "Q9VKA4\n",
      "O83774\n",
      "O83276\n",
      "Q5VT06\n",
      "Q9P2D1\n",
      "Q01484\n",
      "P29994\n",
      "Q14315\n",
      "P14217\n",
      "F8VPN2\n",
      "Q6KC79\n",
      "Q61001\n",
      "Q9UKN1\n",
      "Q9U943\n",
      "Q96T58\n",
      "P69332\n",
      "Q5I6C7\n",
      "Q3KNY0\n",
      "Q9VC56\n",
      "Q96Q15\n",
      "Q9SMH5\n",
      "Q868Z9\n",
      "Q14789\n",
      "Q8WXX0\n",
      "P0DTC2\n"
     ]
    }
   ],
   "source": [
    "AlphaFoldResults = [f[:-4] for f in os.listdir(path + \"/AlphaFoldDB\") if (os.path.isfile(path + \"/AlphaFoldDB/\" + f) & f.__contains__(\".pdb\") )]\n",
    "AlphaMissing = set(proteinIDs) - set(AlphaFoldResults)\n",
    "\n",
    "print(\"Found\", AlphaFoldResults.__len__(),\"of\",proteinIDs.__len__(),\"proteins in AlphaFold DB\")\n",
    "print(\"Missing the following:\")\n",
    "for missing in AlphaMissing:\n",
    "    print(missing)"
   ]
  }
 ],
 "metadata": {
  "kernelspec": {
   "display_name": "DeepLearning",
   "language": "python",
   "name": "python3"
  },
  "language_info": {
   "codemirror_mode": {
    "name": "ipython",
    "version": 3
   },
   "file_extension": ".py",
   "mimetype": "text/x-python",
   "name": "python",
   "nbconvert_exporter": "python",
   "pygments_lexer": "ipython3",
   "version": "3.6.13"
  }
 },
 "nbformat": 4,
 "nbformat_minor": 2
}
