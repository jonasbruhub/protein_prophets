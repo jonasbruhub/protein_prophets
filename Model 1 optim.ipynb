{
 "cells": [
  {
   "cell_type": "code",
   "execution_count": 3,
   "metadata": {},
   "outputs": [],
   "source": [
    "import torch\n",
    "from utils.setup import GetCustomProteinDatasetPadded, GetCVProteins\n",
    "import torch.nn as nn\n",
    "import matplotlib.pyplot as plt\n",
    "import utils.metrics_utils as mu\n",
    "import numpy as np\n",
    "from sklearn import metrics\n",
    "import torch.optim as optim\n",
    "import torchvision.transforms as T\n",
    "\n",
    "encode_length = 1500\n",
    "\n",
    "# Create the dataset cunstructor (use encode_length to set the dimension of the encoded proteins)\n",
    "CustomProteinDataset = GetCustomProteinDatasetPadded(encode_length)\n",
    "CVProteins = GetCVProteins()\n",
    "\n",
    "# Model\n",
    "class Model(nn.Module):\n",
    "    def __init__(self, num_classes):\n",
    "        super(Model, self).__init__()\n",
    "        self.num_classes = num_classes\n",
    "        self.channels = 512\n",
    "        self.length = 1500\n",
    "        self.hidden1 = 128\n",
    "        batchnorm = nn.BatchNorm1d\n",
    "        \n",
    "        # self.transform = T.GaussianBlur( kernel_size=[1,31], sigma=7.0 )\n",
    "\n",
    "        activation_fn = nn.ReLU\n",
    "\n",
    "        self.net = nn.Sequential(\n",
    "            nn.Conv1d(self.channels, self.hidden1, 9, padding=4),\n",
    "            batchnorm(self.hidden1),\n",
    "            activation_fn(),\n",
    "            nn.Conv1d(self.hidden1, 20, 7, padding=3),\n",
    "        )\n",
    "\n",
    "        self.linear = nn.Linear(20, self.num_classes)\n",
    "\n",
    "\n",
    "        # Convolution\n",
    "        in_channels = self.num_classes\n",
    "        out_channels = in_channels\n",
    "\n",
    "        groups = in_channels\n",
    "\n",
    "        kernel_width = 7\n",
    "        kernel_std = 1\n",
    "\n",
    "        kernel1D = torch.tensor(gaussian(kernel_width, kernel_std)).float()\n",
    "        weights = torch.stack( [torch.zeros(kernel_width) for i in range((in_channels//groups-1)//2)] + [kernel1D] + [torch.zeros(kernel_width) for i in range((in_channels//groups-1)//2)])\n",
    "        self.smoothing_weights = torch.stack(  [weights for i in range(out_channels)]  )\n",
    "        self.smoothing_groups = groups\n",
    "\n",
    "        \n",
    "        # result = torch.nn.functional.conv1d(inputs, weights, padding=\"same\", groups = groups)\n",
    "\n",
    "    def forward(self, x):\n",
    "        x = self.net(x)\n",
    "\n",
    "\n",
    "        x = torch.transpose(x,1,2)\n",
    "        x = self.linear(x)\n",
    "        x = torch.transpose(x,1,2)\n",
    "\n",
    "        # print(x.shape)\n",
    "\n",
    "        x = torch.nn.functional.pad(x, ((self.smoothing_weights.shape[-1]-1 )//2,(self.smoothing_weights.shape[-1]-1 )//2), mode = \"reflect\")\n",
    "        x = torch.nn.functional.conv1d(x, self.smoothing_weights, groups = self.smoothing_groups)\n",
    "        \n",
    "        return x\n",
    "\n",
    "\n",
    "# Accuracy\n",
    "def accuracy(target, pred):\n",
    "    return metrics.accuracy_score(\n",
    "        target.detach().cpu().numpy(), pred.detach().cpu().numpy()\n",
    "    )\n",
    "\n",
    "print_error_type_pairs = False\n",
    "\n",
    "def gaussian(M, std, sym=True):\n",
    "    if M < 1:\n",
    "        return np.array([])\n",
    "    if M == 1:\n",
    "        return np.ones(1, 'd')\n",
    "    odd = M % 2\n",
    "    if not sym and not odd:\n",
    "        M = M + 1\n",
    "    n = np.arange(0, M) - (M - 1.0) / 2.0\n",
    "    sig2 = 2 * std * std\n",
    "    w = np.exp(-n ** 2 / sig2) /np.sqrt(2*np.pi)/std\n",
    "    if not sym and not odd:\n",
    "        w = w[:-1]\n",
    "    return w"
   ]
  },
  {
   "cell_type": "code",
   "execution_count": 4,
   "metadata": {},
   "outputs": [
    {
     "name": "stdout",
     "output_type": "stream",
     "text": [
      "encoding proteins\n"
     ]
    },
    {
     "name": "stderr",
     "output_type": "stream",
     "text": [
      "553it [00:02, 227.48it/s]\n"
     ]
    },
    {
     "name": "stdout",
     "output_type": "stream",
     "text": [
      "encoding proteins\n"
     ]
    },
    {
     "name": "stderr",
     "output_type": "stream",
     "text": [
      "138it [00:00, 178.76it/s]\n"
     ]
    },
    {
     "name": "stdout",
     "output_type": "stream",
     "text": [
      "Running Training loop\n",
      "Step 50   \n",
      "  training accuracy:    0.808802074685265\n",
      "  test accuracy:        0.7979628242982272\n",
      "  type accuracy (test): 0.5192788243293762\n",
      "  tm\n",
      "    type     : 0.6428571343421936\n",
      "    topology : 0.0\n",
      "  sptm\n",
      "    type     : 0.75\n",
      "    topology : 0.0\n",
      "  sp\n",
      "    type     : 0.7837837934494019\n",
      "    topology : 0.7837837934494019\n",
      "  glob\n",
      "    type     : 0.4197530746459961\n",
      "    topology : 0.4197530746459961\n",
      "  beta\n",
      "    type     : 0.0\n",
      "    topology : 0.0\n",
      "tensor([[ 9,  1,  2,  1,  0,  0,  1],\n",
      "        [ 1,  3,  0,  0,  0,  0,  0],\n",
      "        [ 1,  0,  0,  1,  0, 29,  6],\n",
      "        [ 2,  2,  6,  0,  0, 34, 37],\n",
      "        [ 0,  2,  0,  0,  0,  0,  0]])\n",
      "\n"
     ]
    },
    {
     "ename": "KeyboardInterrupt",
     "evalue": "",
     "output_type": "error",
     "traceback": [
      "\u001b[1;31m---------------------------------------------------------------------------\u001b[0m",
      "\u001b[1;31mKeyboardInterrupt\u001b[0m                         Traceback (most recent call last)",
      "\u001b[1;32m<ipython-input-4-12d0046b60fe>\u001b[0m in \u001b[0;36m<module>\u001b[1;34m\u001b[0m\n\u001b[0;32m     65\u001b[0m     \u001b[1;32mfor\u001b[0m \u001b[0mbatch\u001b[0m \u001b[1;32min\u001b[0m \u001b[0mtrain_loader\u001b[0m\u001b[1;33m:\u001b[0m\u001b[1;33m\u001b[0m\u001b[1;33m\u001b[0m\u001b[0m\n\u001b[0;32m     66\u001b[0m         \u001b[0minputs\u001b[0m\u001b[1;33m,\u001b[0m \u001b[0mtargets\u001b[0m \u001b[1;33m=\u001b[0m \u001b[0mbatch\u001b[0m\u001b[1;33m\u001b[0m\u001b[1;33m\u001b[0m\u001b[0m\n\u001b[1;32m---> 67\u001b[1;33m         \u001b[0moutput\u001b[0m \u001b[1;33m=\u001b[0m \u001b[0mmodel\u001b[0m\u001b[1;33m(\u001b[0m\u001b[0minputs\u001b[0m\u001b[1;33m[\u001b[0m\u001b[1;33m:\u001b[0m\u001b[1;33m,\u001b[0m \u001b[1;33m:\u001b[0m\u001b[1;33m-\u001b[0m\u001b[1;36m1\u001b[0m\u001b[1;33m,\u001b[0m \u001b[1;33m:\u001b[0m\u001b[1;33m]\u001b[0m\u001b[1;33m)\u001b[0m\u001b[1;33m\u001b[0m\u001b[1;33m\u001b[0m\u001b[0m\n\u001b[0m\u001b[0;32m     68\u001b[0m \u001b[1;33m\u001b[0m\u001b[0m\n\u001b[0;32m     69\u001b[0m         \u001b[0mloss\u001b[0m \u001b[1;33m=\u001b[0m \u001b[0mloss_fn\u001b[0m\u001b[1;33m(\u001b[0m\u001b[0moutput\u001b[0m\u001b[1;33m,\u001b[0m \u001b[0mtargets\u001b[0m\u001b[1;33m)\u001b[0m\u001b[1;33m\u001b[0m\u001b[1;33m\u001b[0m\u001b[0m\n",
      "\u001b[1;32mc:\\Users\\jonas\\anaconda3\\envs\\DeepLearningProject\\lib\\site-packages\\torch\\nn\\modules\\module.py\u001b[0m in \u001b[0;36m_call_impl\u001b[1;34m(self, *input, **kwargs)\u001b[0m\n\u001b[0;32m   1100\u001b[0m         if not (self._backward_hooks or self._forward_hooks or self._forward_pre_hooks or _global_backward_hooks\n\u001b[0;32m   1101\u001b[0m                 or _global_forward_hooks or _global_forward_pre_hooks):\n\u001b[1;32m-> 1102\u001b[1;33m             \u001b[1;32mreturn\u001b[0m \u001b[0mforward_call\u001b[0m\u001b[1;33m(\u001b[0m\u001b[1;33m*\u001b[0m\u001b[0minput\u001b[0m\u001b[1;33m,\u001b[0m \u001b[1;33m**\u001b[0m\u001b[0mkwargs\u001b[0m\u001b[1;33m)\u001b[0m\u001b[1;33m\u001b[0m\u001b[1;33m\u001b[0m\u001b[0m\n\u001b[0m\u001b[0;32m   1103\u001b[0m         \u001b[1;31m# Do not call functions when jit is used\u001b[0m\u001b[1;33m\u001b[0m\u001b[1;33m\u001b[0m\u001b[1;33m\u001b[0m\u001b[0m\n\u001b[0;32m   1104\u001b[0m         \u001b[0mfull_backward_hooks\u001b[0m\u001b[1;33m,\u001b[0m \u001b[0mnon_full_backward_hooks\u001b[0m \u001b[1;33m=\u001b[0m \u001b[1;33m[\u001b[0m\u001b[1;33m]\u001b[0m\u001b[1;33m,\u001b[0m \u001b[1;33m[\u001b[0m\u001b[1;33m]\u001b[0m\u001b[1;33m\u001b[0m\u001b[1;33m\u001b[0m\u001b[0m\n",
      "\u001b[1;32m<ipython-input-3-b5a248aaba19>\u001b[0m in \u001b[0;36mforward\u001b[1;34m(self, x)\u001b[0m\n\u001b[0;32m     57\u001b[0m \u001b[1;33m\u001b[0m\u001b[0m\n\u001b[0;32m     58\u001b[0m     \u001b[1;32mdef\u001b[0m \u001b[0mforward\u001b[0m\u001b[1;33m(\u001b[0m\u001b[0mself\u001b[0m\u001b[1;33m,\u001b[0m \u001b[0mx\u001b[0m\u001b[1;33m)\u001b[0m\u001b[1;33m:\u001b[0m\u001b[1;33m\u001b[0m\u001b[1;33m\u001b[0m\u001b[0m\n\u001b[1;32m---> 59\u001b[1;33m         \u001b[0mx\u001b[0m \u001b[1;33m=\u001b[0m \u001b[0mself\u001b[0m\u001b[1;33m.\u001b[0m\u001b[0mnet\u001b[0m\u001b[1;33m(\u001b[0m\u001b[0mx\u001b[0m\u001b[1;33m)\u001b[0m\u001b[1;33m\u001b[0m\u001b[1;33m\u001b[0m\u001b[0m\n\u001b[0m\u001b[0;32m     60\u001b[0m \u001b[1;33m\u001b[0m\u001b[0m\n\u001b[0;32m     61\u001b[0m \u001b[1;33m\u001b[0m\u001b[0m\n",
      "\u001b[1;32mc:\\Users\\jonas\\anaconda3\\envs\\DeepLearningProject\\lib\\site-packages\\torch\\nn\\modules\\module.py\u001b[0m in \u001b[0;36m_call_impl\u001b[1;34m(self, *input, **kwargs)\u001b[0m\n\u001b[0;32m   1100\u001b[0m         if not (self._backward_hooks or self._forward_hooks or self._forward_pre_hooks or _global_backward_hooks\n\u001b[0;32m   1101\u001b[0m                 or _global_forward_hooks or _global_forward_pre_hooks):\n\u001b[1;32m-> 1102\u001b[1;33m             \u001b[1;32mreturn\u001b[0m \u001b[0mforward_call\u001b[0m\u001b[1;33m(\u001b[0m\u001b[1;33m*\u001b[0m\u001b[0minput\u001b[0m\u001b[1;33m,\u001b[0m \u001b[1;33m**\u001b[0m\u001b[0mkwargs\u001b[0m\u001b[1;33m)\u001b[0m\u001b[1;33m\u001b[0m\u001b[1;33m\u001b[0m\u001b[0m\n\u001b[0m\u001b[0;32m   1103\u001b[0m         \u001b[1;31m# Do not call functions when jit is used\u001b[0m\u001b[1;33m\u001b[0m\u001b[1;33m\u001b[0m\u001b[1;33m\u001b[0m\u001b[0m\n\u001b[0;32m   1104\u001b[0m         \u001b[0mfull_backward_hooks\u001b[0m\u001b[1;33m,\u001b[0m \u001b[0mnon_full_backward_hooks\u001b[0m \u001b[1;33m=\u001b[0m \u001b[1;33m[\u001b[0m\u001b[1;33m]\u001b[0m\u001b[1;33m,\u001b[0m \u001b[1;33m[\u001b[0m\u001b[1;33m]\u001b[0m\u001b[1;33m\u001b[0m\u001b[1;33m\u001b[0m\u001b[0m\n",
      "\u001b[1;32mc:\\Users\\jonas\\anaconda3\\envs\\DeepLearningProject\\lib\\site-packages\\torch\\nn\\modules\\container.py\u001b[0m in \u001b[0;36mforward\u001b[1;34m(self, input)\u001b[0m\n\u001b[0;32m    139\u001b[0m     \u001b[1;32mdef\u001b[0m \u001b[0mforward\u001b[0m\u001b[1;33m(\u001b[0m\u001b[0mself\u001b[0m\u001b[1;33m,\u001b[0m \u001b[0minput\u001b[0m\u001b[1;33m)\u001b[0m\u001b[1;33m:\u001b[0m\u001b[1;33m\u001b[0m\u001b[1;33m\u001b[0m\u001b[0m\n\u001b[0;32m    140\u001b[0m         \u001b[1;32mfor\u001b[0m \u001b[0mmodule\u001b[0m \u001b[1;32min\u001b[0m \u001b[0mself\u001b[0m\u001b[1;33m:\u001b[0m\u001b[1;33m\u001b[0m\u001b[1;33m\u001b[0m\u001b[0m\n\u001b[1;32m--> 141\u001b[1;33m             \u001b[0minput\u001b[0m \u001b[1;33m=\u001b[0m \u001b[0mmodule\u001b[0m\u001b[1;33m(\u001b[0m\u001b[0minput\u001b[0m\u001b[1;33m)\u001b[0m\u001b[1;33m\u001b[0m\u001b[1;33m\u001b[0m\u001b[0m\n\u001b[0m\u001b[0;32m    142\u001b[0m         \u001b[1;32mreturn\u001b[0m \u001b[0minput\u001b[0m\u001b[1;33m\u001b[0m\u001b[1;33m\u001b[0m\u001b[0m\n\u001b[0;32m    143\u001b[0m \u001b[1;33m\u001b[0m\u001b[0m\n",
      "\u001b[1;32mc:\\Users\\jonas\\anaconda3\\envs\\DeepLearningProject\\lib\\site-packages\\torch\\nn\\modules\\module.py\u001b[0m in \u001b[0;36m_call_impl\u001b[1;34m(self, *input, **kwargs)\u001b[0m\n\u001b[0;32m   1100\u001b[0m         if not (self._backward_hooks or self._forward_hooks or self._forward_pre_hooks or _global_backward_hooks\n\u001b[0;32m   1101\u001b[0m                 or _global_forward_hooks or _global_forward_pre_hooks):\n\u001b[1;32m-> 1102\u001b[1;33m             \u001b[1;32mreturn\u001b[0m \u001b[0mforward_call\u001b[0m\u001b[1;33m(\u001b[0m\u001b[1;33m*\u001b[0m\u001b[0minput\u001b[0m\u001b[1;33m,\u001b[0m \u001b[1;33m**\u001b[0m\u001b[0mkwargs\u001b[0m\u001b[1;33m)\u001b[0m\u001b[1;33m\u001b[0m\u001b[1;33m\u001b[0m\u001b[0m\n\u001b[0m\u001b[0;32m   1103\u001b[0m         \u001b[1;31m# Do not call functions when jit is used\u001b[0m\u001b[1;33m\u001b[0m\u001b[1;33m\u001b[0m\u001b[1;33m\u001b[0m\u001b[0m\n\u001b[0;32m   1104\u001b[0m         \u001b[0mfull_backward_hooks\u001b[0m\u001b[1;33m,\u001b[0m \u001b[0mnon_full_backward_hooks\u001b[0m \u001b[1;33m=\u001b[0m \u001b[1;33m[\u001b[0m\u001b[1;33m]\u001b[0m\u001b[1;33m,\u001b[0m \u001b[1;33m[\u001b[0m\u001b[1;33m]\u001b[0m\u001b[1;33m\u001b[0m\u001b[1;33m\u001b[0m\u001b[0m\n",
      "\u001b[1;32mc:\\Users\\jonas\\anaconda3\\envs\\DeepLearningProject\\lib\\site-packages\\torch\\nn\\modules\\conv.py\u001b[0m in \u001b[0;36mforward\u001b[1;34m(self, input)\u001b[0m\n\u001b[0;32m    299\u001b[0m \u001b[1;33m\u001b[0m\u001b[0m\n\u001b[0;32m    300\u001b[0m     \u001b[1;32mdef\u001b[0m \u001b[0mforward\u001b[0m\u001b[1;33m(\u001b[0m\u001b[0mself\u001b[0m\u001b[1;33m,\u001b[0m \u001b[0minput\u001b[0m\u001b[1;33m:\u001b[0m \u001b[0mTensor\u001b[0m\u001b[1;33m)\u001b[0m \u001b[1;33m->\u001b[0m \u001b[0mTensor\u001b[0m\u001b[1;33m:\u001b[0m\u001b[1;33m\u001b[0m\u001b[1;33m\u001b[0m\u001b[0m\n\u001b[1;32m--> 301\u001b[1;33m         \u001b[1;32mreturn\u001b[0m \u001b[0mself\u001b[0m\u001b[1;33m.\u001b[0m\u001b[0m_conv_forward\u001b[0m\u001b[1;33m(\u001b[0m\u001b[0minput\u001b[0m\u001b[1;33m,\u001b[0m \u001b[0mself\u001b[0m\u001b[1;33m.\u001b[0m\u001b[0mweight\u001b[0m\u001b[1;33m,\u001b[0m \u001b[0mself\u001b[0m\u001b[1;33m.\u001b[0m\u001b[0mbias\u001b[0m\u001b[1;33m)\u001b[0m\u001b[1;33m\u001b[0m\u001b[1;33m\u001b[0m\u001b[0m\n\u001b[0m\u001b[0;32m    302\u001b[0m \u001b[1;33m\u001b[0m\u001b[0m\n\u001b[0;32m    303\u001b[0m \u001b[1;33m\u001b[0m\u001b[0m\n",
      "\u001b[1;32mc:\\Users\\jonas\\anaconda3\\envs\\DeepLearningProject\\lib\\site-packages\\torch\\nn\\modules\\conv.py\u001b[0m in \u001b[0;36m_conv_forward\u001b[1;34m(self, input, weight, bias)\u001b[0m\n\u001b[0;32m    296\u001b[0m                             _single(0), self.dilation, self.groups)\n\u001b[0;32m    297\u001b[0m         return F.conv1d(input, weight, bias, self.stride,\n\u001b[1;32m--> 298\u001b[1;33m                         self.padding, self.dilation, self.groups)\n\u001b[0m\u001b[0;32m    299\u001b[0m \u001b[1;33m\u001b[0m\u001b[0m\n\u001b[0;32m    300\u001b[0m     \u001b[1;32mdef\u001b[0m \u001b[0mforward\u001b[0m\u001b[1;33m(\u001b[0m\u001b[0mself\u001b[0m\u001b[1;33m,\u001b[0m \u001b[0minput\u001b[0m\u001b[1;33m:\u001b[0m \u001b[0mTensor\u001b[0m\u001b[1;33m)\u001b[0m \u001b[1;33m->\u001b[0m \u001b[0mTensor\u001b[0m\u001b[1;33m:\u001b[0m\u001b[1;33m\u001b[0m\u001b[1;33m\u001b[0m\u001b[0m\n",
      "\u001b[1;31mKeyboardInterrupt\u001b[0m: "
     ]
    }
   ],
   "source": [
    "# Initiate the model\n",
    "n_unique_labels = 7\n",
    "model = Model(n_unique_labels)\n",
    "\n",
    "# Loss function\n",
    "loss_fn = nn.CrossEntropyLoss(ignore_index=-1)\n",
    "\n",
    "# Optimizer\n",
    "optimizer = optim.Adam(model.parameters(), lr=1e-3, weight_decay=1e-6)\n",
    "\n",
    "\n",
    "# Setup datasets\n",
    "cv0Indices = CVProteins[\"cv0\"]\n",
    "train_dataset = CustomProteinDataset(cv0Indices[0:553])\n",
    "test_dataset = CustomProteinDataset(cv0Indices[553:691])\n",
    "\n",
    "batch_size = 32\n",
    "# define a data loader to iterate the dataset\n",
    "train_loader = torch.utils.data.DataLoader(\n",
    "    train_dataset,\n",
    "    batch_size=batch_size,\n",
    "    shuffle=False,\n",
    "    num_workers=0,\n",
    "    drop_last=False\n",
    ")\n",
    "\n",
    "test_loader = torch.utils.data.DataLoader(\n",
    "    test_dataset,\n",
    "    batch_size=batch_size,\n",
    "    shuffle=False,\n",
    "    num_workers=0,\n",
    "    drop_last=False\n",
    ")\n",
    "\n",
    "num_epochs = 20\n",
    "validation_every_steps = 50\n",
    "\n",
    "step = 0\n",
    "model.train()\n",
    "\n",
    "train_accuracies = []\n",
    "valid_accuracies = []\n",
    "\n",
    "\n",
    "step_history = []\n",
    "type_accuracy_history = []\n",
    "\n",
    "tm_type_accuracy_history = []\n",
    "sptm_type_accuracy_history = []\n",
    "sp_type_accuracy_history = []\n",
    "glob_type_accuracy_history = []\n",
    "beta_type_accuracy_history = []\n",
    "\n",
    "tm_topology_accuracy_history = []\n",
    "sptm_topology_accuracy_history = []\n",
    "sp_topology_accuracy_history = []\n",
    "glob_topology_accuracy_history = []\n",
    "beta_topology_accuracy_history = []\n",
    "\n",
    "print(\"Running Training loop\")\n",
    "\n",
    "for epoch in range(num_epochs):\n",
    "    train_accuracies_batches = []\n",
    "\n",
    "    for batch in train_loader:\n",
    "        inputs, targets = batch\n",
    "        output = model(inputs[:, :-1, :])\n",
    "\n",
    "        loss = loss_fn(output, targets)\n",
    "        optimizer.zero_grad()\n",
    "        loss.backward()\n",
    "        optimizer.step()\n",
    "\n",
    "        # Increment step counter\n",
    "        step += 1\n",
    "\n",
    "        # Compute accuracy\n",
    "        predictions = output.max(1)[1]\n",
    "\n",
    "        # Calculate accuracy for each protein in batch\n",
    "        # prediction_labels_list = []\n",
    "        # target_labels_list = []\n",
    "        for idx in range(predictions.shape[0]):\n",
    "            target_len = int(torch.sum(inputs[idx, -1, :]))\n",
    "            train_accuracies_batches.append(\n",
    "                accuracy(targets[idx][0:target_len], predictions[idx][0:target_len])\n",
    "            )\n",
    "\n",
    "        if step % validation_every_steps == 0:\n",
    "            # Append everage training accuracy to list\n",
    "            train_accuracies.append(np.mean(train_accuracies_batches))\n",
    "\n",
    "            train_accuracies_batches = []\n",
    "\n",
    "            # Compite accuracies on validation set\n",
    "            valid_accuracies_batches = []\n",
    "\n",
    "            # For confusion matrix\n",
    "            prediction_labels_list = []\n",
    "            target_labels_list = []\n",
    "\n",
    "            with torch.no_grad():\n",
    "                model.eval()\n",
    "                # Change this to test_loader once this exists\n",
    "                for batch_test in test_loader:\n",
    "                    inputs, targets = batch_test\n",
    "\n",
    "                    # inputs, targets = inputs.to(DEVICE), targets.to(DEVICE) # Probably change this!!\n",
    "                    output = model(inputs[:, :-1, :])\n",
    "                    loss = loss_fn(output, targets)\n",
    "\n",
    "                    predictions = output.max(1)[1]\n",
    "\n",
    "                    for idx in range(predictions.shape[0]):\n",
    "                        # target_len represents the length of the targets non padded length\n",
    "                        target_len = int(torch.sum(inputs[idx, -1, :]))\n",
    "\n",
    "                        valid_accuracies_batches.append(\n",
    "                            accuracy(\n",
    "                                targets[idx][0:target_len],\n",
    "                                predictions[idx][0:target_len],\n",
    "                            )\n",
    "                        )\n",
    "\n",
    "                        temp = predictions[idx][0:target_len]\n",
    "                        temp[temp == 6] = -1\n",
    "                        prediction_labels_list += [temp]\n",
    "                        target_labels_list += [targets[idx][0:target_len]]\n",
    "\n",
    "                    # Multiply by len(x) because the final batch of DataLoader may be smaller (drop_last=False).\n",
    "                    # valid_accuracies_batches.append(\n",
    "                    #     accuracy(targets[0:500], predictions[0:500]) * len(inputs)\n",
    "                    # )\n",
    "\n",
    "                    model.train()\n",
    "\n",
    "            # Calcucalte and prind confusion matrix\n",
    "\n",
    "            valid_accuracies.append(\n",
    "                np.sum(valid_accuracies_batches) / len(test_dataset)\n",
    "            )\n",
    "            print(f\"Step {step:<5}\")\n",
    "            print(f\"  training accuracy:    {train_accuracies[-1]}\")\n",
    "            print(f\"  test accuracy:        {valid_accuracies[-1]}\")\n",
    "\n",
    "            # Extra accuracies\n",
    "            (\n",
    "                error_type_pairs,\n",
    "                confusion_matrix,\n",
    "                type_accuracy,\n",
    "                detailed_type_accuracy,\n",
    "            ) = mu.confusionMatrix(prediction_labels_list, target_labels_list)\n",
    "\n",
    "            # type accuracy is average of per type, topology accuracy\n",
    "            print(f\"  type accuracy (test): {type_accuracy}\")\n",
    "\n",
    "            # detailed type accuracies\n",
    "            for key in detailed_type_accuracy.keys():\n",
    "                print(f\"  {key}\")\n",
    "                for field in detailed_type_accuracy[key].keys():\n",
    "                    print(f\"    {field:<9}: {detailed_type_accuracy[key][field]}\")\n",
    "\n",
    "            print(confusion_matrix)\n",
    "\n",
    "            if print_error_type_pairs:\n",
    "                for error_pair in error_type_pairs:\n",
    "                    print(\"  Predicted topology:\", error_pair[\"predicted topology\"])\n",
    "                    print(\"  Target topology:   \", error_pair[\"target topology\"])\n",
    "\n",
    "            print(\"\")\n",
    "\n",
    "            # Store values for plot\n",
    "            step_history += [step]\n",
    "            type_accuracy_history += [type_accuracy]\n",
    "\n",
    "            tm_type_accuracy_history += [detailed_type_accuracy[\"tm\"][\"type\"]]\n",
    "            sptm_type_accuracy_history += [detailed_type_accuracy[\"sptm\"][\"type\"]]\n",
    "            sp_type_accuracy_history += [detailed_type_accuracy[\"sp\"][\"type\"]]\n",
    "            glob_type_accuracy_history += [detailed_type_accuracy[\"glob\"][\"type\"]]\n",
    "            beta_type_accuracy_history += [detailed_type_accuracy[\"beta\"][\"type\"]]\n",
    "\n",
    "            tm_topology_accuracy_history += [detailed_type_accuracy[\"tm\"][\"topology\"]]\n",
    "            sptm_topology_accuracy_history += [detailed_type_accuracy[\"sptm\"][\"topology\"]]\n",
    "            sp_topology_accuracy_history += [detailed_type_accuracy[\"sp\"][\"topology\"]]\n",
    "            glob_topology_accuracy_history += [detailed_type_accuracy[\"glob\"][\"topology\"]]\n",
    "            beta_topology_accuracy_history += [detailed_type_accuracy[\"beta\"][\"topology\"]]\n",
    "\n",
    "\n",
    "print(\"Done training.\")"
   ]
  },
  {
   "cell_type": "code",
   "execution_count": null,
   "metadata": {},
   "outputs": [
    {
     "data": {
      "image/png": "[encoded data removed]",
      "text/plain": [
       "<Figure size 720x720 with 1 Axes>"
      ]
     },
     "metadata": {
      "needs_background": "light"
     },
     "output_type": "display_data"
    }
   ],
   "source": [
    "fig, axs = plt.subplots(nrows=1, ncols=1,figsize=(10, 10))\n",
    "\n",
    "axs.plot(step_history,type_accuracy_history,label=\"overall type\")\n",
    "\n",
    "axs.plot(step_history,tm_type_accuracy_history, \"-*\", label=\"tm type\")\n",
    "axs.plot(step_history,sptm_type_accuracy_history, \"-*\", label=\"spt type\")\n",
    "axs.plot(step_history,sp_type_accuracy_history, \"-*\", label=\"sp type\")\n",
    "axs.plot(step_history,glob_type_accuracy_history, \"-*\", label=\"glob type\")\n",
    "axs.plot(step_history,beta_type_accuracy_history, \"-*\", label=\"beta type\")\n",
    "\n",
    "axs.plot(step_history,tm_topology_accuracy_history, \"-d\", label=\"tm topology\")\n",
    "axs.plot(step_history,sptm_topology_accuracy_history, \"-d\", label=\"sptm topology\")\n",
    "axs.plot(step_history,sp_topology_accuracy_history, \"-d\", label=\"sp topology\")\n",
    "axs.plot(step_history,glob_topology_accuracy_history, \"-d\", label=\"glob topology\")\n",
    "axs.plot(step_history,beta_topology_accuracy_history, \"-d\", label=\"beta topology\")\n",
    "\n",
    "\n",
    "axs.set_xlabel(\"step\")\n",
    "axs.set_ylabel(\"accuracy\")\n",
    "axs.grid(True)\n",
    "\n",
    "plt.legend(loc=\"lower right\")\n",
    "plt.show()"
   ]
  },
  {
   "cell_type": "code",
   "execution_count": null,
   "metadata": {},
   "outputs": [
    {
     "ename": "RuntimeError",
     "evalue": "Given groups=1, weight of size [20, 16, 401], expected input[40, 1, 30] to have 16 channels, but got 1 channels instead",
     "output_type": "error",
     "traceback": [
      "\u001b[1;31m---------------------------------------------------------------------------\u001b[0m",
      "\u001b[1;31mRuntimeError\u001b[0m                              Traceback (most recent call last)",
      "\u001b[1;32m<ipython-input-102-2c16bd56d5e9>\u001b[0m in \u001b[0;36m<module>\u001b[1;34m\u001b[0m\n\u001b[0;32m      1\u001b[0m \u001b[0minputs\u001b[0m \u001b[1;33m=\u001b[0m \u001b[0mtorch\u001b[0m\u001b[1;33m.\u001b[0m\u001b[0mrandn\u001b[0m\u001b[1;33m(\u001b[0m\u001b[1;36m40\u001b[0m\u001b[1;33m,\u001b[0m\u001b[1;36m1\u001b[0m\u001b[1;33m,\u001b[0m \u001b[1;36m30\u001b[0m\u001b[1;33m)\u001b[0m\u001b[1;33m\u001b[0m\u001b[1;33m\u001b[0m\u001b[0m\n\u001b[0;32m      2\u001b[0m \u001b[0mfilters\u001b[0m \u001b[1;33m=\u001b[0m \u001b[0mtorch\u001b[0m\u001b[1;33m.\u001b[0m\u001b[0mrandn\u001b[0m\u001b[1;33m(\u001b[0m\u001b[1;36m20\u001b[0m\u001b[1;33m,\u001b[0m \u001b[1;36m16\u001b[0m\u001b[1;33m,\u001b[0m \u001b[1;36m401\u001b[0m\u001b[1;33m)\u001b[0m\u001b[1;33m\u001b[0m\u001b[1;33m\u001b[0m\u001b[0m\n\u001b[1;32m----> 3\u001b[1;33m \u001b[0mtorch\u001b[0m\u001b[1;33m.\u001b[0m\u001b[0mnn\u001b[0m\u001b[1;33m.\u001b[0m\u001b[0mfunctional\u001b[0m\u001b[1;33m.\u001b[0m\u001b[0mconv1d\u001b[0m\u001b[1;33m(\u001b[0m\u001b[0minputs\u001b[0m\u001b[1;33m,\u001b[0m \u001b[0mfilters\u001b[0m\u001b[1;33m,\u001b[0m \u001b[0mpadding\u001b[0m\u001b[1;33m=\u001b[0m\u001b[1;34m'same'\u001b[0m\u001b[1;33m)\u001b[0m\u001b[1;33m.\u001b[0m\u001b[0mshape\u001b[0m\u001b[1;33m\u001b[0m\u001b[1;33m\u001b[0m\u001b[0m\n\u001b[0m",
      "\u001b[1;31mRuntimeError\u001b[0m: Given groups=1, weight of size [20, 16, 401], expected input[40, 1, 30] to have 16 channels, but got 1 channels instead"
     ]
    }
   ],
   "source": [
    "inputs = torch.randn(40,1, 30)\n",
    "filters = torch.randn(20, 16, 401)\n",
    "torch.nn.functional.conv1d(inputs, filters, padding='same').shape"
   ]
  },
  {
   "cell_type": "code",
   "execution_count": null,
   "metadata": {},
   "outputs": [],
   "source": [
    "in_channels = 5\n",
    "inputs = torch.randn(10,in_channels, 10)\n",
    "out_channels = in_channels\n",
    "\n",
    "groups = in_channels\n",
    "\n",
    "kernel_width = 7\n",
    "kernel_std = 1\n",
    "\n",
    "kernel1D = torch.tensor(gaussian(kernel_width, kernel_std)).float()\n",
    "weights = torch.stack( [torch.zeros(kernel_width) for i in range((in_channels//groups-1)//2)] + [kernel1D] + [torch.zeros(kernel_width) for i in range((in_channels//groups-1)//2)])\n",
    "weights = torch.stack(  [weights for i in range(out_channels)]  )\n"
   ]
  },
  {
   "cell_type": "code",
   "execution_count": null,
   "metadata": {},
   "outputs": [
    {
     "data": {
      "text/plain": [
       "tensor([[[0.0044, 0.0540, 0.2420, 0.3989, 0.2420, 0.0540, 0.0044]],\n",
       "\n",
       "        [[0.0044, 0.0540, 0.2420, 0.3989, 0.2420, 0.0540, 0.0044]],\n",
       "\n",
       "        [[0.0044, 0.0540, 0.2420, 0.3989, 0.2420, 0.0540, 0.0044]],\n",
       "\n",
       "        [[0.0044, 0.0540, 0.2420, 0.3989, 0.2420, 0.0540, 0.0044]],\n",
       "\n",
       "        [[0.0044, 0.0540, 0.2420, 0.3989, 0.2420, 0.0540, 0.0044]]])"
      ]
     },
     "execution_count": 235,
     "metadata": {},
     "output_type": "execute_result"
    }
   ],
   "source": [
    "weights"
   ]
  },
  {
   "cell_type": "code",
   "execution_count": null,
   "metadata": {},
   "outputs": [],
   "source": [
    "# print(inputs.shape)\n",
    "# inputs_pad = torch.nn.functional.pad(inputs,((kernel_width-1)//2,(kernel_width-1)//2))"
   ]
  },
  {
   "cell_type": "code",
   "execution_count": null,
   "metadata": {},
   "outputs": [
    {
     "name": "stdout",
     "output_type": "stream",
     "text": [
      "torch.Size([10, 5, 10])\n"
     ]
    }
   ],
   "source": [
    "result = torch.nn.functional.conv1d(inputs, weights, padding=\"same\", groups = groups)\n",
    "print(result.shape)"
   ]
  },
  {
   "cell_type": "code",
   "execution_count": null,
   "metadata": {},
   "outputs": [
    {
     "data": {
      "text/plain": [
       "tensor([ 1.9816,  0.2271,  2.0288, -0.5102, -1.6168, -1.1106, -0.4445, -1.8825,\n",
       "         1.4215, -0.2126])"
      ]
     },
     "execution_count": 231,
     "metadata": {},
     "output_type": "execute_result"
    }
   ],
   "source": [
    "inputs[0,0,:]"
   ]
  },
  {
   "cell_type": "code",
   "execution_count": null,
   "metadata": {},
   "outputs": [
    {
     "data": {
      "text/plain": [
       "tensor([ 0.8455,  1.0610,  0.7409, -0.1039, -1.0372, -0.9418, -0.9016, -0.5146,\n",
       "         0.0602,  0.2592])"
      ]
     },
     "execution_count": 232,
     "metadata": {},
     "output_type": "execute_result"
    }
   ],
   "source": [
    "result[0,0,:]"
   ]
  },
  {
   "cell_type": "code",
   "execution_count": null,
   "metadata": {},
   "outputs": [
    {
     "data": {
      "text/plain": [
       "1.060999171818"
      ]
     },
     "execution_count": 233,
     "metadata": {},
     "output_type": "execute_result"
    }
   ],
   "source": [
    "B = np.array([1.9816,  0.2271,  2.0288])\n",
    "\n",
    "A = np.array([0.24197072, 0.3989423 , 0.24197072])\n",
    "\n",
    "(A*B).sum()"
   ]
  }
 ],
 "metadata": {
  "kernelspec": {
   "display_name": "DeepLearningProject",
   "language": "python",
   "name": "python3"
  },
  "language_info": {
   "codemirror_mode": {
    "name": "ipython",
    "version": 3
   },
   "file_extension": ".py",
   "mimetype": "text/x-python",
   "name": "python",
   "nbconvert_exporter": "python",
   "pygments_lexer": "ipython3",
   "version": "3.6.13"
  }
 },
 "nbformat": 4,
 "nbformat_minor": 2
}
