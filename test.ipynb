{
 "cells": [
  {
   "cell_type": "code",
   "execution_count": 1,
   "metadata": {},
   "outputs": [
    {
     "name": "stderr",
     "output_type": "stream",
     "text": [
      "c:\\Users\\jonas\\anaconda3\\envs\\DeepLearningProject\\lib\\site-packages\\tqdm\\auto.py:22: TqdmWarning: IProgress not found. Please update jupyter and ipywidgets. See https://ipywidgets.readthedocs.io/en/stable/user_install.html\n",
      "  from .autonotebook import tqdm as notebook_tqdm\n"
     ]
    }
   ],
   "source": [
    "import torch\n",
    "from utils.setup import GetCustomProteinDataset,GetCVProteins"
   ]
  },
  {
   "cell_type": "code",
   "execution_count": 9,
   "metadata": {},
   "outputs": [
    {
     "name": "stdout",
     "output_type": "stream",
     "text": [
      "encoding proteins\n"
     ]
    },
    {
     "name": "stderr",
     "output_type": "stream",
     "text": [
      "691it [00:03, 200.02it/s]\n"
     ]
    }
   ],
   "source": [
    "CustomProteinDataset = GetCustomProteinDataset(2000)\n",
    "CVProteins = GetCVProteins()\n",
    "\n",
    "dataset = CustomProteinDataset(CVProteins[\"cv0\"])\n",
    "\n",
    "batch_size = 32\n",
    "\n",
    "train_loader = torch.utils.data.DataLoader(\n",
    "    dataset, batch_size=batch_size, shuffle=False, num_workers=0, drop_last=False\n",
    ")"
   ]
  },
  {
   "cell_type": "code",
   "execution_count": 10,
   "metadata": {},
   "outputs": [
    {
     "name": "stdout",
     "output_type": "stream",
     "text": [
      "torch.Size([32, 512, 2000])\n",
      "torch.Size([32, 2000])\n",
      "torch.Size([32, 512, 2000])\n",
      "torch.Size([32, 2000])\n",
      "torch.Size([32, 512, 2000])\n",
      "torch.Size([32, 2000])\n",
      "torch.Size([32, 512, 2000])\n",
      "torch.Size([32, 2000])\n",
      "torch.Size([32, 512, 2000])\n",
      "torch.Size([32, 2000])\n",
      "torch.Size([32, 512, 2000])\n",
      "torch.Size([32, 2000])\n",
      "torch.Size([32, 512, 2000])\n",
      "torch.Size([32, 2000])\n",
      "torch.Size([32, 512, 2000])\n",
      "torch.Size([32, 2000])\n",
      "torch.Size([32, 512, 2000])\n",
      "torch.Size([32, 2000])\n",
      "torch.Size([32, 512, 2000])\n",
      "torch.Size([32, 2000])\n",
      "torch.Size([32, 512, 2000])\n",
      "torch.Size([32, 2000])\n",
      "torch.Size([32, 512, 2000])\n",
      "torch.Size([32, 2000])\n",
      "torch.Size([32, 512, 2000])\n",
      "torch.Size([32, 2000])\n",
      "torch.Size([32, 512, 2000])\n",
      "torch.Size([32, 2000])\n",
      "torch.Size([32, 512, 2000])\n",
      "torch.Size([32, 2000])\n",
      "torch.Size([32, 512, 2000])\n",
      "torch.Size([32, 2000])\n",
      "torch.Size([32, 512, 2000])\n",
      "torch.Size([32, 2000])\n",
      "torch.Size([32, 512, 2000])\n",
      "torch.Size([32, 2000])\n",
      "torch.Size([32, 512, 2000])\n",
      "torch.Size([32, 2000])\n",
      "torch.Size([32, 512, 2000])\n",
      "torch.Size([32, 2000])\n",
      "torch.Size([32, 512, 2000])\n",
      "torch.Size([32, 2000])\n",
      "torch.Size([19, 512, 2000])\n",
      "torch.Size([19, 2000])\n"
     ]
    }
   ],
   "source": [
    "for batch in train_loader:\n",
    "    inputs, targets = batch\n",
    "    print(inputs.shape)\n",
    "    print(targets.shape)"
   ]
  }
 ],
 "metadata": {
  "kernelspec": {
   "display_name": "DeepLearningProject",
   "language": "python",
   "name": "python3"
  },
  "language_info": {
   "codemirror_mode": {
    "name": "ipython",
    "version": 3
   },
   "file_extension": ".py",
   "mimetype": "text/x-python",
   "name": "python",
   "nbconvert_exporter": "python",
   "pygments_lexer": "ipython3",
   "version": "3.6.13"
  }
 },
 "nbformat": 4,
 "nbformat_minor": 2
}
